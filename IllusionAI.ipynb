{
  "nbformat": 4,
  "nbformat_minor": 0,
  "metadata": {
    "colab": {
      "provenance": [],
      "gpuType": "T4",
      "authorship_tag": "ABX9TyO5a63GPd04WnO2JrOL62fq",
      "include_colab_link": true
    },
    "kernelspec": {
      "name": "python3",
      "display_name": "Python 3"
    },
    "language_info": {
      "name": "python"
    },
    "accelerator": "GPU"
  },
  "cells": [
    {
      "cell_type": "markdown",
      "metadata": {
        "id": "view-in-github",
        "colab_type": "text"
      },
      "source": [
        "<a href=\"https://colab.research.google.com/github/Deepandreinforcement/Stable-Diffusion-Illusion-AI/blob/main/IllusionAI.ipynb\" target=\"_parent\"><img src=\"https://colab.research.google.com/assets/colab-badge.svg\" alt=\"Open In Colab\"/></a>"
      ]
    },
    {
      "cell_type": "markdown",
      "source": [
        "Burada kütüphaneleri kuruyoruz"
      ],
      "metadata": {
        "id": "gP7oSRKhu7Vy"
      }
    },
    {
      "cell_type": "code",
      "source": [
        "!pip install diffusers accelerate transformers"
      ],
      "metadata": {
        "id": "nVDbyPrR39wa"
      },
      "execution_count": null,
      "outputs": []
    },
    {
      "cell_type": "markdown",
      "source": [
        "# Model Seçimi"
      ],
      "metadata": {
        "id": "WYtnKfHuvOUp"
      }
    },
    {
      "cell_type": "markdown",
      "source": [
        "Burada kullanacağımız modeli tanımlıyoruz. Ben 6 tane model gösterdim. Bunlardan birini seçip çalıştırabilirsiniz. Hepsini çalıştırmayın. İlk defa deniyorsanız bu modelleri en alttaki modeli tavsiye ederim. Onu kullanabilirsiniz. Ayrıca diğer modelleri de siz bu şekilde yükleyebilirsiniz. Ayrıca diğer ayarları da resme göre değiştirebilirsiziniz. Bundan farklı birçok ayar var onlara bakıp o ayarları değiştirerek daha iyi sonuçlar alabilirsiniz."
      ],
      "metadata": {
        "id": "WN_j16dRvTNo"
      }
    },
    {
      "cell_type": "code",
      "execution_count": null,
      "metadata": {
        "id": "7TPZbclgu1Gx"
      },
      "outputs": [],
      "source": [
        "from diffusers import StableDiffusionControlNetPipeline, ControlNetModel\n",
        "import torch\n",
        "\n",
        "controlnet = ControlNetModel.from_pretrained(\"monster-labs/control_v1p_sd15_qrcode_monster\", torch_dtype=torch.float16,CFG=7,sampler='DPM++ 2M Karras')\n",
        "pipe = StableDiffusionControlNetPipeline.from_pretrained(\n",
        "    \"SG161222/Realistic_Vision_V2.0\", controlnet=controlnet, torch_dtype=torch.float16\n",
        ").to(\"cuda\")"
      ]
    },
    {
      "cell_type": "code",
      "source": [
        "from diffusers import StableDiffusionControlNetPipeline, ControlNetModel\n",
        "import torch\n",
        "\n",
        "controlnet = ControlNetModel.from_pretrained(\"monster-labs/control_v1p_sd15_qrcode_monster\", torch_dtype=torch.float16,CFG=7,sampler='DPM++ 2M Karras')\n",
        "pipe = StableDiffusionControlNetPipeline.from_pretrained(\n",
        "    \"Justin-Choo/epiCRealism-Natural_Sin_RC1_VAE\", controlnet=controlnet, torch_dtype=torch.float16\n",
        ").to(\"cuda\")"
      ],
      "metadata": {
        "id": "J9_Xl-uPu1i5"
      },
      "execution_count": null,
      "outputs": []
    },
    {
      "cell_type": "code",
      "source": [
        "from diffusers import StableDiffusionControlNetPipeline, ControlNetModel\n",
        "import torch\n",
        "\n",
        "controlnet = ControlNetModel.from_pretrained(\"monster-labs/control_v1p_sd15_qrcode_monster\", torch_dtype=torch.float16,CFG=7,sampler='DPM++ 2M Karras')\n",
        "pipe = StableDiffusionControlNetPipeline.from_pretrained(\n",
        "    \"SG161222/Realistic_Vision_V5.0_noVAE\", controlnet=controlnet, torch_dtype=torch.float16\n",
        ").to(\"cuda\")"
      ],
      "metadata": {
        "id": "au7ydspiu1l0"
      },
      "execution_count": null,
      "outputs": []
    },
    {
      "cell_type": "code",
      "source": [
        "from diffusers import StableDiffusionControlNetPipeline, ControlNetModel\n",
        "import torch\n",
        "\n",
        "controlnet = ControlNetModel.from_pretrained(\"monster-labs/control_v1p_sd15_qrcode_monster\", torch_dtype=torch.float16,CFG=7,sampler='DPM++ 2M Karras')\n",
        "pipe = StableDiffusionControlNetPipeline.from_pretrained(\n",
        "    \"stablediffusionapi/deliberate-v2\", controlnet=controlnet, torch_dtype=torch.float16\n",
        ").to(\"cuda\")"
      ],
      "metadata": {
        "id": "Q4eOZWzKu1pA"
      },
      "execution_count": null,
      "outputs": []
    },
    {
      "cell_type": "code",
      "source": [
        "from diffusers import StableDiffusionControlNetPipeline, ControlNetModel\n",
        "import torch\n",
        "\n",
        "controlnet = ControlNetModel.from_pretrained(\"monster-labs/control_v1p_sd15_qrcode_monster\", torch_dtype=torch.float16,CFG=7,sampler='euler')\n",
        "pipe = StableDiffusionControlNetPipeline.from_pretrained(\n",
        "    \"danbrown/Lyriel-v1-5\", controlnet=controlnet, torch_dtype=torch.float16\n",
        ").to(\"cuda\")"
      ],
      "metadata": {
        "id": "GpwNd3eVu1sF"
      },
      "execution_count": null,
      "outputs": []
    },
    {
      "cell_type": "code",
      "source": [
        "from diffusers import StableDiffusionControlNetPipeline, ControlNetModel\n",
        "import torch\n",
        "\n",
        "controlnet = ControlNetModel.from_pretrained(\"monster-labs/control_v1p_sd15_qrcode_monster\", CFG=7, torch_dtype=torch.float16,sampler='euler')\n",
        "pipe = StableDiffusionControlNetPipeline.from_pretrained(\n",
        "    \"danbrown/RevAnimated-v1-2-2\", controlnet=controlnet, torch_dtype=torch.float16\n",
        ").to(\"cuda\")"
      ],
      "metadata": {
        "id": "lis1nEJy34Vx"
      },
      "execution_count": null,
      "outputs": []
    },
    {
      "cell_type": "markdown",
      "source": [
        "# Resim yükleme"
      ],
      "metadata": {
        "id": "lG_y1b_qxbva"
      }
    },
    {
      "cell_type": "markdown",
      "source": [
        "Burada desen olarak kullanacağımız resmi tanımlıyoruz. Bu kodu çalıştırmadan önce resminizi buraya yüklemelisiniz. Burada yüklenen görselin boyutu da önemli. Çıkan sonucu etkiliyor."
      ],
      "metadata": {
        "id": "AXko1V7n0R3U"
      }
    },
    {
      "cell_type": "code",
      "source": [
        "from diffusers.utils import load_image\n",
        "\n",
        "\n",
        "img = load_image(\"apple1.png\")\n"
      ],
      "metadata": {
        "id": "Emr0S-2-u12r"
      },
      "execution_count": null,
      "outputs": []
    },
    {
      "cell_type": "markdown",
      "source": [
        "\n",
        "\n",
        "# Görsel Oluşturma\n"
      ],
      "metadata": {
        "id": "6jDHcyLez_bk"
      }
    },
    {
      "cell_type": "markdown",
      "source": [
        "\n",
        "Burada istediğimiz metni girerek görseli oluşturuyoruz. Burada ben birçok örnek promt koydum. İsterseniz siz bunları kullanabilir isterseniz de kendi promtlarınızı kullanabilirsiniz. Burada height resmin yüksekliği width ise resmin genişliği. Ayrıca negative_prompt ile resimde olmasını istemediğimiz şeyleri belirtiyoruz. controlnet_conditioning_scale ile yüklediğimiz resmin yeni oluşan resimdeki etkisini ayarlıyoruz. Bu değişken ne kadar yüksek olursa yüklenen resmin etkisi o kadar çok olur. num_inference_steps ile de resmin kaç adımda oluşturulacağını belirliyoruz. Buradaki ayarlar her bir prompt, model ve yüklenen resim için değiştirilebilir.Buradaki ayarlarla oynayarak en iyi sonuçları elde edebilirsiniz. Ayrıca bundan farklı birçok ayar daha var. Onları da araştırabilirsiniz\n"
      ],
      "metadata": {
        "id": "rApnyh45z_eu"
      }
    },
    {
      "cell_type": "code",
      "source": [
        "image = pipe(\n",
        "\n",
        "    \"Beautiful landscape with sea  and sky view \",\n",
        "    img,\n",
        "    height=768,\n",
        "    width=768,\n",
        "\n",
        "    negative_prompt='(worst quality, poor details:1.4), lowres, (artist name, signature, watermark:1.4)',\n",
        "\n",
        "    num_inference_steps=80,\n",
        "    controlnet_conditioning_scale=1.2,\n",
        ").images[0]"
      ],
      "metadata": {
        "id": "0dLjgxeuxKUb"
      },
      "execution_count": null,
      "outputs": []
    },
    {
      "cell_type": "code",
      "source": [
        "image = pipe(\n",
        "\n",
        "    \"Beautiful landscape with  with fluffy clouds, HDR lighting, high dynamic range, vibrant colors\",\n",
        "    img,\n",
        "\n",
        "    negative_prompt='(worst quality, poor details:1.4), lowres, (artist name, signature, watermark:1.4)',\n",
        "\n",
        "    num_inference_steps=80,\n",
        "    controlnet_conditioning_scale=1.4,\n",
        ").images[0]"
      ],
      "metadata": {
        "id": "dB_vJiFvxKYF"
      },
      "execution_count": null,
      "outputs": []
    },
    {
      "cell_type": "code",
      "source": [
        "image = pipe(\n",
        "\n",
        "    \"hyper realistic landscape photograf of a beautiful beachfront cove with a blue sky and fluffy clouds 70mm, cinematic film style, imax\",\n",
        "    img,\n",
        "\n",
        "    negative_prompt='(worst quality, poor details:1.4), lowres, (artist name, signature, watermark:1.4)',\n",
        "\n",
        "    num_inference_steps=80,\n",
        "    controlnet_conditioning_scale=1.2,\n",
        ").images[0]"
      ],
      "metadata": {
        "id": "ewm4D6R6xKeN"
      },
      "execution_count": null,
      "outputs": []
    },
    {
      "cell_type": "code",
      "source": [
        "image = pipe(\n",
        "\n",
        "    \" photo,  cute happy  puppies are running in garden , diverse mix, action shot, 8k uhd, dslr, ultra realistic,high quality, film grain, Fujifilm XT3\",\n",
        "    #\" photo, a group of cute happy puppies in garden\",\n",
        "    img,\n",
        "\n",
        "    negative_prompt='(worst quality, poor details:1.4), lowres, (artist name, signature, watermark:1.4)',\n",
        "\n",
        "    num_inference_steps=80,\n",
        "    controlnet_conditioning_scale=1.2,\n",
        ").images[0]"
      ],
      "metadata": {
        "id": "TYWyCWHzxKhP"
      },
      "execution_count": null,
      "outputs": []
    },
    {
      "cell_type": "code",
      "source": [
        "image = pipe(\n",
        "\n",
        "    \"top of snowy great mountains, in the distance\",\n",
        "    img,\n",
        "\n",
        "    negative_prompt='(worst quality, poor details:1.4), lowres, (artist name, signature, watermark:1.4)',\n",
        "\n",
        "    num_inference_steps=80,\n",
        "    controlnet_conditioning_scale=1.2,\n",
        ").images[0]"
      ],
      "metadata": {
        "id": "G57-LY90xKkU"
      },
      "execution_count": null,
      "outputs": []
    },
    {
      "cell_type": "code",
      "source": [
        "image = pipe(\n",
        "\n",
        "    \" photo,people walking on the street , diverse mix, action shot, 8k uhd, dslr, ultra realistic,high quality, film grain, Fujifilm XT3 \",\n",
        "    img,\n",
        "\n",
        "    negative_prompt='(worst quality, poor details:1.4), lowres, (artist name, signature, watermark:1.4)',\n",
        "\n",
        "    num_inference_steps=80,\n",
        "    controlnet_conditioning_scale=1.2,\n",
        ").images[0]"
      ],
      "metadata": {
        "id": "VOQ9I52KxKnq"
      },
      "execution_count": null,
      "outputs": []
    },
    {
      "cell_type": "code",
      "source": [
        "image = pipe(\n",
        "\n",
        "    \"Medieval village scene with busy streets and castle in the distance\",\n",
        "    img,\n",
        "    negative_prompt='(worst quality, poor details:1.4), lowres, (artist name, signature, watermark:1.4)',\n",
        "    num_inference_steps=120,\n",
        "    controlnet_conditioning_scale=1.4,\n",
        ").images[0]"
      ],
      "metadata": {
        "id": "SAALejxrxKqz"
      },
      "execution_count": null,
      "outputs": []
    },
    {
      "cell_type": "code",
      "source": [
        "image = pipe(\n",
        "\n",
        "    \"(masterpiece:1.4), (best quality), (detailed), BREAK Medieval village scene with busy streets and castle in the distance\",\n",
        "    img,\n",
        "    negative_prompt='(worst quality, poor details:1.4), lowres, (artist name, signature, watermark:1.4)',\n",
        "    num_inference_steps=120,\n",
        "    controlnet_conditioning_scale=1.0,\n",
        ").images[0]"
      ],
      "metadata": {
        "id": "C_Eoq6t5xKuE"
      },
      "execution_count": null,
      "outputs": []
    },
    {
      "cell_type": "code",
      "source": [
        "image = pipe(\n",
        "\n",
        "    \"A photo of canyon, high detail, photorealistic, 8k\",\n",
        "    img,\n",
        "    negative_prompt='(worst quality, poor details:1.4), lowres, (artist name, signature, watermark:1.4)',\n",
        "    num_inference_steps=80,\n",
        "    controlnet_conditioning_scale=1.2,\n",
        ").images[0]"
      ],
      "metadata": {
        "id": "QT5KgNnYxKxh"
      },
      "execution_count": null,
      "outputs": []
    },
    {
      "cell_type": "code",
      "source": [
        "image = pipe(\n",
        "\n",
        "    \"hypercar, cyberpunk city, hyperdetailed, intricately detailed, deep color, 8k resolution, photorealistic, masterpiece, cinematic lighting\",\n",
        "    img,\n",
        "\n",
        "    negative_prompt='3d, cartoon, anime, sketches, (worst quality:2), (low quality:2), (normal quality:2), lowres, normal quality, ((monochrome)), ((grayscale)), skin spots, acnes, skin blemishes, bad anatomy, girl, loli, young, large breasts, red eyes, muscular',\n",
        "    num_inference_steps=80,\n",
        "    controlnet_conditioning_scale=1.3,\n",
        ").images[0]"
      ],
      "metadata": {
        "id": "G0KBmGJgzvVF"
      },
      "execution_count": null,
      "outputs": []
    },
    {
      "cell_type": "code",
      "source": [
        "image = pipe(\n",
        "\n",
        "    \"  photo,  noodles on plate, diverse mix, action shot, 8k uhd, dslr, ultra realistic,high quality, film grain, Fujifilm XT3\",\n",
        "    img,\n",
        "\n",
        "    negative_prompt='(worst quality, poor details:1.4), lowres, (artist name, signature, watermark:1.4)',\n",
        "\n",
        "    num_inference_steps=120,\n",
        "    controlnet_conditioning_scale=1.25,\n",
        ").images[0]"
      ],
      "metadata": {
        "id": "82F_UshGzvX7"
      },
      "execution_count": null,
      "outputs": []
    },
    {
      "cell_type": "code",
      "source": [
        "image = pipe(\n",
        "\n",
        "    \"  photo,  pizza, \",\n",
        "    img,\n",
        "\n",
        "    negative_prompt='(worst quality, poor details:1.4), lowres, (artist name, signature, watermark:1.4)',\n",
        "\n",
        "    num_inference_steps=120,\n",
        "    controlnet_conditioning_scale=1.25,\n",
        ").images[0]"
      ],
      "metadata": {
        "id": "3SPMTtsqzvaw"
      },
      "execution_count": null,
      "outputs": []
    },
    {
      "cell_type": "code",
      "source": [
        "image = pipe(\n",
        "\n",
        "    \"  charming fairy tale village, snow-covered decorated Christmas trees, warm inviting cabin, ultra sharp digital oil painting, snowflakes, mountains with waterfall, soft light far-away full moon, glitter, stars, stardust, hyper realistic, well rendered, detailed, vibrant, electric blue and purple sky in style of Thomas Kinkade\",\n",
        "    img,\n",
        "\n",
        "    negative_prompt='(worst quality, poor details:1.4), lowres, (artist name, signature, watermark:1.4)',\n",
        "\n",
        "    num_inference_steps=120,\n",
        "    controlnet_conditioning_scale=1.25,\n",
        ").images[0]"
      ],
      "metadata": {
        "id": "Le5axjSJzveD"
      },
      "execution_count": null,
      "outputs": []
    },
    {
      "cell_type": "markdown",
      "source": [
        "# Görseli kaydetme"
      ],
      "metadata": {
        "id": "K9U9BK5Y2M8Q"
      }
    },
    {
      "cell_type": "markdown",
      "source": [
        "Burada oluşturulan görseli gösteriyoruz."
      ],
      "metadata": {
        "id": "V1-OiDuO2Tvm"
      }
    },
    {
      "cell_type": "code",
      "source": [
        "image"
      ],
      "metadata": {
        "id": "1-wsBrYSxK4l"
      },
      "execution_count": null,
      "outputs": []
    },
    {
      "cell_type": "markdown",
      "source": [
        "Görseli kaydediyoruz."
      ],
      "metadata": {
        "id": "_fR1PEcF2ZdH"
      }
    },
    {
      "cell_type": "code",
      "source": [
        "image.save('img.jpg')"
      ],
      "metadata": {
        "id": "Yesk8iVtxLD2"
      },
      "execution_count": null,
      "outputs": []
    }
  ]
}